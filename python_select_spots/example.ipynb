{
 "cells": [
  {
   "cell_type": "code",
   "execution_count": null,
   "metadata": {},
   "outputs": [],
   "source": [
    "# basic pkgs\n",
    "import os\n",
    "import pandas as pd\n",
    "import numpy as n\n",
    "\n",
    "# analysis pkgs\n",
    "import scanpy as sc\n",
    "\n",
    "# plotting\n",
    "import matplotlib.pyplot as plt\n",
    "import seaborn as sns\n",
    "from spot_selection import get_selection_plot # here it is"
   ]
  },
  {
   "cell_type": "markdown",
   "metadata": {},
   "source": [
    "For this toy example, we are going to use one of the datasets from Visium 10x that is already processed and available for scanpy users. <br>\n",
    "All the preprocessing commands are copied from the scanpy [tutorial](https://scanpy-tutorials.readthedocs.io/en/latest/spatial/basic-analysis.html) on how to visualize spatial trasncriptomics data"
   ]
  },
  {
   "cell_type": "code",
   "execution_count": null,
   "metadata": {},
   "outputs": [],
   "source": [
    "adata = sc.datasets.visium_sge('V1_Human_Lymph_Node')\n",
    "adata"
   ]
  },
  {
   "cell_type": "code",
   "execution_count": null,
   "metadata": {},
   "outputs": [],
   "source": [
    "# Here I'll just copy the commands from the tutorial\n",
    "adata.var_names_make_unique()\n",
    "adata.var[\"mt\"] = adata.var_names.str.startswith(\"MT-\")\n",
    "sc.pp.calculate_qc_metrics(adata, qc_vars=[\"mt\"], inplace=True)"
   ]
  },
  {
   "cell_type": "markdown",
   "metadata": {},
   "source": [
    "Let's imagine we want to remove the top right corner spots (see plot below) because the tissue seems scratched (this is just hypothetical)"
   ]
  },
  {
   "cell_type": "code",
   "execution_count": null,
   "metadata": {},
   "outputs": [],
   "source": [
    "plt.rcParams[\"figure.figsize\"] = (8, 8)\n",
    "sc.pl.spatial(adata, img_key=\"hires\", color=[\"total_counts\", \"n_genes_by_counts\"])"
   ]
  },
  {
   "cell_type": "markdown",
   "metadata": {},
   "source": [
    "We can use this bokeh plot to retrieve the id spot of any selection that we perform on the plot. Once we selected that region, the coordinates and the id spots will be printed. Concretely, a list of the id spots will be printed first and then a dataframe with the coordinates. "
   ]
  },
  {
   "cell_type": "code",
   "execution_count": null,
   "metadata": {},
   "outputs": [],
   "source": [
    "get_selection_plot(adata)"
   ]
  },
  {
   "cell_type": "markdown",
   "metadata": {},
   "source": [
    "Now we can store the list into a variable name (copy paste it!) and filter our anndata object"
   ]
  },
  {
   "cell_type": "code",
   "execution_count": null,
   "metadata": {},
   "outputs": [],
   "source": [
    "# copy paste the list in this variable (spot_ids)\n",
    "# spot_ids = ['AGCTGCTGTGCCGAAT-1', 'ATGTTTGTAAGATCAT-1', 'ATTCAGATGAATCCCT-1', 'CTCAGCAGACTGCCGA-1', \n",
    "#             'GCTCGACCGAACTGAA-1', 'GGGTCACGTGCTTATG-1', 'TAATCAGGAATGCTGC-1', 'TGGTCGTTTGATAGAT-1', \n",
    "#             'TGTTGATCACTGTTTA-1']\n",
    "\n",
    "# filter out selected spots\n",
    "adata = adata[~adata.obs.index.isin(spot_ids)]\n",
    "adata"
   ]
  }
 ],
 "metadata": {
  "kernelspec": {
   "display_name": "Python [conda env:spatial_trans_py]",
   "language": "python",
   "name": "conda-env-spatial_trans_py-py"
  },
  "language_info": {
   "codemirror_mode": {
    "name": "ipython",
    "version": 3
   },
   "file_extension": ".py",
   "mimetype": "text/x-python",
   "name": "python",
   "nbconvert_exporter": "python",
   "pygments_lexer": "ipython3",
   "version": "3.9.2"
  }
 },
 "nbformat": 4,
 "nbformat_minor": 4
}
